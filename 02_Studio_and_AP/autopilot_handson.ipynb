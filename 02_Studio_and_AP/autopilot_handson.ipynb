{
 "cells": [
  {
   "cell_type": "markdown",
   "metadata": {},
   "source": [
    "# 0. ハンズオンの概要\n",
    "\n",
    "アヤメのデータセットをAutopilotで前処理・学習・チューニングさせ、3種類のアヤメを分類できるモデルを作成します。\n",
    "\n",
    "※アヤメのデータセットであればわざわざSageMakerを使わないです。公式のサンプルもありますが実行に時間がかかります。今回はAutopilotの使用方法を学ぶのが目的なのでかなり小さいデータセットであるアヤメのデータセットを用います。"
   ]
  },
  {
   "cell_type": "markdown",
   "metadata": {},
   "source": [
    "# 1. セットアップ\n",
    "\n",
    "データを配置するS3を作成します。"
   ]
  },
  {
   "cell_type": "code",
   "execution_count": null,
   "metadata": {},
   "outputs": [],
   "source": [
    "import boto3\n",
    "\n",
    "region = boto3.Session().region_name\n",
    "\n",
    "bucket = \"<バケット名>\"\n",
    "prefix = \"sagemaker/autopilot-handson\"\n"
   ]
  },
  {
   "cell_type": "markdown",
   "metadata": {},
   "source": [
    "# 2. データセットの準備\n",
    "\n",
    "今回はアヤメのデータセットを利用します。\n",
    "まずは以下のコードを実行してアヤメのデータセットがどんなものか確認します。"
   ]
  },
  {
   "cell_type": "code",
   "execution_count": null,
   "metadata": {},
   "outputs": [],
   "source": [
    "import pandas as pd\n",
    "from sklearn import datasets\n",
    "\n",
    "iris = datasets.load_iris()\n",
    "\n",
    "df = pd.DataFrame(iris.data, columns=iris.feature_names)\n",
    "df['target'] = iris.target_names[iris.target]"
   ]
  },
  {
   "cell_type": "markdown",
   "metadata": {},
   "source": [
    "次にトレーニングデータとテストデータを分けます。"
   ]
  },
  {
   "cell_type": "code",
   "execution_count": null,
   "metadata": {},
   "outputs": [],
   "source": [
    "#8:2で分ける"
   ]
  },
  {
   "cell_type": "markdown",
   "metadata": {},
   "source": [
    "トレーニングデータをCSVにして先ほど作成したS3へアップロードします。"
   ]
  },
  {
   "cell_type": "code",
   "execution_count": null,
   "metadata": {},
   "outputs": [],
   "source": [
    "\n",
    "df.to_csv(\"iris.csv\", index=False)\n",
    "#S3へアップロード"
   ]
  },
  {
   "cell_type": "markdown",
   "metadata": {},
   "source": [
    "# 3. Autopilotの実行\n",
    "\n",
    "アヤメの種類を分類できるようにAutopilotで学習を実行します。ノートブック上での作業ではなく、SageMaker StudioのGUIでの作業になります。"
   ]
  },
  {
   "cell_type": "markdown",
   "metadata": {},
   "source": [
    "# 4. モデルのテスト\n",
    "\n",
    "テストデータを使ってモデルの精度を確認します。"
   ]
  }
 ],
 "metadata": {
  "language_info": {
   "codemirror_mode": {
    "name": "ipython",
    "version": 3
   },
   "file_extension": ".py",
   "mimetype": "text/x-python",
   "name": "python",
   "nbconvert_exporter": "python",
   "pygments_lexer": "ipython3",
   "version": 3
  },
  "orig_nbformat": 2
 },
 "nbformat": 4,
 "nbformat_minor": 2
}