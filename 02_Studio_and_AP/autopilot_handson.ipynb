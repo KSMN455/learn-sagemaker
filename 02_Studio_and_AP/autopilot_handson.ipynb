{
 "cells": [
  {
   "cell_type": "markdown",
   "metadata": {},
   "source": [
    "# 0. ハンズオンの概要\n",
    "\n",
    "公式のサンプルを参考に作成した資料になります。公式サンプルではpythonでAutopilotを実行してますが、SageMaker StudioのSageMaker StudioのGUIで実行するよう書き換えています。ハンズオン用のデータの準備やモデルの評価はPythonを実行して行います。\n"
   ]
  },
  {
   "cell_type": "markdown",
   "metadata": {},
   "source": [
    "# 1. セットアップ\n",
    "\n",
    "データを配置するS3を指定します。いい感じのバケットがなければ作成する。"
   ]
  },
  {
   "cell_type": "code",
   "execution_count": null,
   "metadata": {},
   "outputs": [],
   "source": [
    "\n",
    "bucket = \"<バケット名>\"\n",
    "prefix = \"sagemaker/autopilot-handson\"\n"
   ]
  },
  {
   "cell_type": "markdown",
   "metadata": {},
   "source": [
    "データを解凍するためunzipをインストールします。"
   ]
  },
  {
   "cell_type": "code",
   "execution_count": null,
   "metadata": {},
   "outputs": [],
   "source": [
    "!apt-get install -y sudo\n",
    "\n"
   ]
  },
  {
   "cell_type": "code",
   "execution_count": null,
   "metadata": {},
   "outputs": [],
   "source": [
    "!sudo apt-get install -y unzip"
   ]
  },
  {
   "cell_type": "markdown",
   "metadata": {},
   "source": [
    "# 2. データセットの準備\n",
    "\n",
    "公式サンプルでも利用されているサンプルをダウンロードします。"
   ]
  },
  {
   "cell_type": "code",
   "execution_count": null,
   "metadata": {},
   "outputs": [],
   "source": [
    "!wget http://dataminingconsultant.com/DKD2e_data_sets.zip"
   ]
  },
  {
   "cell_type": "markdown",
   "metadata": {},
   "source": [
    "データを解凍・見てみる。ひょっとしたらエラーになるかも。"
   ]
  },
  {
   "cell_type": "markdown",
   "metadata": {},
   "source": [
    "解凍"
   ]
  },
  {
   "cell_type": "code",
   "execution_count": null,
   "metadata": {},
   "outputs": [],
   "source": [
    "\n",
    "!unzip -o DKD2e_data_sets.zip"
   ]
  },
  {
   "cell_type": "markdown",
   "metadata": {},
   "source": [
    "表示"
   ]
  },
  {
   "cell_type": "code",
   "execution_count": null,
   "metadata": {},
   "outputs": [],
   "source": [
    "import pandas as pd\n",
    "\n",
    "churn = pd.read_csv('Data sets/churn.txt')\n",
    "pd.set_option('display.max_columns', 500)\n",
    "churn"
   ]
  },
  {
   "cell_type": "markdown",
   "metadata": {},
   "source": [
    "## データについて\n",
    "\n",
    "電話オペレータ？の対応ごとのユーザーが解約したか・してないかのデータ。今回は「Churn?」の値(True or False)を予測するためAutopilotでモデルを作成する。"
   ]
  },
  {
   "cell_type": "markdown",
   "metadata": {},
   "source": [
    "トレーニングデータとテストデータにわける。"
   ]
  },
  {
   "cell_type": "code",
   "execution_count": null,
   "metadata": {},
   "outputs": [],
   "source": [
    "from sklearn.model_selection import train_test_split\n",
    "\n",
    "train, test = train_test_split(churn, test_size = 0.2, train_size = 0.8, shuffle = True)"
   ]
  },
  {
   "cell_type": "markdown",
   "metadata": {},
   "source": [
    "トレーニングデータをCSVにして先ほど作成したS3へアップロードします。"
   ]
  },
  {
   "cell_type": "code",
   "execution_count": null,
   "metadata": {},
   "outputs": [],
   "source": [
    "\n",
    "train.to_csv(\"train.csv\", index=False)\n"
   ]
  },
  {
   "cell_type": "code",
   "execution_count": null,
   "metadata": {},
   "outputs": [],
   "source": [
    "import boto3\n",
    "\n",
    "s3 = boto3.resource(\"s3\")\n",
    "s3.meta.client.upload_file(\"train.csv\", bucket, \"train.csv\")"
   ]
  },
  {
   "cell_type": "markdown",
   "metadata": {},
   "source": [
    "# 3. Autopilotの実行\n",
    "\n",
    "Autopilotで学習を実行します。ノートブック上での作業ではなく、SageMaker StudioのGUIでの作業になります。"
   ]
  },
  {
   "cell_type": "markdown",
   "metadata": {},
   "source": [
    "## ジョブの作成\n",
    "\n",
    "Welcome画面の ```Create autopilot experiments``` をクリック。Welcome画面を閉じってしまっているなら左上の ```Amazon SageMaker Studio``` をクリックすると開く。\n",
    "\n",
    "![画像](img/12.PNG)"
   ]
  },
  {
   "cell_type": "markdown",
   "metadata": {},
   "source": [
    "- ジョブ名を入力。\n",
    "- 学習データのS3の場所を指定。\n",
    "    - 上のコードでアップロードしたもの。\n",
    "\n",
    "![画像](img/13.PNG)"
   ]
  },
  {
   "cell_type": "markdown",
   "metadata": {},
   "source": [
    "- ```Target attribute name``` は ```Churn?``` 。\n",
    "- アウトプットの場所を指定。\n",
    "    - 新規の場所を指定する場合は ```Find S3 bucket``` だとできないので ```Enter S3 bucket location``` で指定。\n",
    "\n",
    "![画像](img/14.PNG)"
   ]
  },
  {
   "cell_type": "markdown",
   "metadata": {},
   "source": [
    "- ```Select the machine learning problem type``` はせっかくなので```Auto``` 。\n",
    "- ```Do you want to run a complete experiment?``` もせっかくなので ```Yes``` 。\n",
    "\n",
    "![画像](img/15.PNG)"
   ]
  },
  {
   "cell_type": "markdown",
   "metadata": {},
   "source": [
    "## あとは待つだけ\n",
    "\n",
    "ジョブが完了するのを待ちます。ただし1時間くらいかかる。\n",
    "\n",
    "![画像](img/16.PNG)\n",
    "\n"
   ]
  },
  {
   "cell_type": "markdown",
   "metadata": {},
   "source": [
    "## ジョブのタブを閉じてしまったら？\n",
    "\n",
    "```Amazon Experiments Lists``` から 作成したジョブを右クリック。 ```Describe AutoML Job``` で開くことができる。\n",
    "\n",
    "![画像](img/17.PNG)\n",
    "\n"
   ]
  },
  {
   "cell_type": "markdown",
   "metadata": {},
   "source": [
    "## 時間がかかるので今回は。。。\n",
    "\n",
    "途中でstopしてそこまでで一番よさげなモデルを使います。\n"
   ]
  },
  {
   "cell_type": "markdown",
   "metadata": {},
   "source": [
    "# 4. モデルのデプロイ\n",
    "\n",
    "作成したモデルをデプロイします。"
   ]
  },
  {
   "cell_type": "markdown",
   "metadata": {},
   "source": [
    "- Autopilotジョブの画面のTrialsを ```Objective``` クリックして並べ替えます。\n",
    "\n",
    "![画像](img/18.PNG)"
   ]
  },
  {
   "cell_type": "markdown",
   "metadata": {},
   "source": [
    "- 星がついてるものが一番よさげなモデル。選択して ```Deploy model``` をクリック。\n",
    "\n",
    "![画像](img/19.PNG)\n"
   ]
  },
  {
   "cell_type": "markdown",
   "metadata": {},
   "source": [
    "- モデルのエンドポイント名を入力。インスタンスサイズはm5.largeくらいで。インスタンス数はでもよい。\n",
    "   - ```Data capture``` は今回はいらない。\n",
    "\n",
    "![画像](img/20.PNG)"
   ]
  },
  {
   "cell_type": "markdown",
   "metadata": {},
   "source": [
    "しばらくするとデプロイされる"
   ]
  },
  {
   "cell_type": "markdown",
   "metadata": {},
   "source": [
    "# モデルで推論\n",
    "\n",
    "ここからはほぼ公式サンプルの通り。"
   ]
  },
  {
   "cell_type": "code",
   "execution_count": null,
   "metadata": {},
   "outputs": [],
   "source": [
    "import sagemaker\n",
    "\n",
    "from io import StringIO\n",
    "from sagemaker.predictor import RealTimePredictor\n",
    "from sagemaker.content_types import CONTENT_TYPE_CSV\n",
    "\n",
    "# predicterの定義。どのエンドポイント使うか\n",
    "session = sagemaker.Session()\n",
    "\n",
    "predictor = RealTimePredictor(\n",
    "    endpoint=\"エンドポイント名\", \n",
    "    sagemaker_session=session,\n",
    "    content_type=CONTENT_TYPE_CSV,\n",
    "    accept=CONTENT_TYPE_CSV)\n",
    "\n",
    "# 上の方で定義したtestからChurn?列を削除\n",
    "test_data_inference = test.drop('Churn?', axis=1)\n",
    "\n",
    "# SageMakerエンドポイントでtestデータの推論を実行\n",
    "prediction = predictor.predict(test_data_inference.to_csv(sep=',', header=False, index=False)).decode('utf-8')\n",
    "\n",
    "# 実際の値と推論結果とを比べて精度を出す。\n",
    "prediction_df = pd.read_csv(StringIO(prediction), header=None)\n",
    "accuracy = (test_data.reset_index()['Churn?'] == prediction_df[0]).sum() / len(test_data_inference)\n",
    "print('Accuracy: {}'.format(accuracy))"
   ]
  },
  {
   "cell_type": "markdown",
   "metadata": {},
   "source": [
    "まあまあ。。。かな。。。？"
   ]
  },
  {
   "cell_type": "markdown",
   "metadata": {},
   "source": [
    "# エンドポイント削除\n",
    "\n",
    "エンドポイントは課金され続けるので削除する。\n",
    "\n"
   ]
  },
  {
   "cell_type": "code",
   "execution_count": null,
   "metadata": {},
   "outputs": [],
   "source": [
    "sm = boto3.client(\"sagemaker\")\n",
    "\n",
    "sm.delete_endpoint(EndpointName=\"エンドポイント名\")"
   ]
  }
 ],
 "metadata": {
  "language_info": {
   "codemirror_mode": {
    "name": "ipython",
    "version": 3
   },
   "file_extension": ".py",
   "mimetype": "text/x-python",
   "name": "python",
   "nbconvert_exporter": "python",
   "pygments_lexer": "ipython3",
   "version": 3
  },
  "orig_nbformat": 2
 },
 "nbformat": 4,
 "nbformat_minor": 2
}